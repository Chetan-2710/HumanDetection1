{
 "cells": [
  {
   "cell_type": "code",
   "execution_count": null,
   "metadata": {},
   "outputs": [],
   "source": [
    "import os\n",
    "os.getcwd()\n"
   ]
  },
  {
   "cell_type": "code",
   "execution_count": null,
   "metadata": {},
   "outputs": [],
   "source": [
    "os.chdir('yolov7')\n",
    "os.getcwd()"
   ]
  },
  {
   "cell_type": "code",
   "execution_count": null,
   "metadata": {},
   "outputs": [],
   "source": [
    "!pip install -r requirements.txt"
   ]
  },
  {
   "cell_type": "markdown",
   "metadata": {},
   "source": [
    "YOLOV7 fine-tuning\n"
   ]
  },
  {
   "cell_type": "code",
   "execution_count": 10,
   "metadata": {},
   "outputs": [],
   "source": [
    "# python train.py --workers 4 --device 0 --batch-size 2 --img 1280 720 --cfg cfg/training/yolov7x.yaml --weights yolov7x.pt --name yolov7x-custom --epochs 50 --hyp data/hyp.scratch.custom.yaml --amp"
   ]
  },
  {
   "cell_type": "code",
   "execution_count": null,
   "metadata": {},
   "outputs": [],
   "source": [
    "import os\n",
    "print(os.path.exists(r'C:\\Users\\kolak\\3_1_project\\DataSet1\\Training\\test1'))\n"
   ]
  },
  {
   "cell_type": "code",
   "execution_count": null,
   "metadata": {},
   "outputs": [],
   "source": [
    "# command = (\n",
    "#     \"python train_aux.py --workers 4 --device 0 --batch-size 3 --img 1920 1080 \"\n",
    "#     \"--cfg cfg/training/yolov7x.yaml --weights yolov7x.pt \"\n",
    "#     \"--name model --epochs 50 --data data.yaml --amp\"\n",
    "# )\n",
    "\n",
    "# # Print the command for verification\n",
    "# print(\"Running command:\")\n",
    "# print(command)\n",
    "\n",
    "# # Run the command\n",
    "# os.system(command)\n",
    "\n",
    "\n",
    "!python train.py --workers 4 --device 0 --batch-size 8 --img 1920 1080 --cfg cfg/training/yolov7.yaml --weights yolov7.pt --name model --epochs 50 --data data.yaml\n",
    "\n",
    "\n",
    "# import subprocess\n",
    "\n",
    "# command = [\n",
    "#     \"python\", \"train_aux.py\", \n",
    "#     \"--workers\", \"4\", \n",
    "#     \"--device\", \"0\", \n",
    "#     \"--batch-size\", \"3\", \n",
    "#     \"--img\", \"1920\", \"1080\", \n",
    "#     \"--cfg\", \"cfg/training/yolov7x.yaml\", \n",
    "#     \"--weights\", \"yolov7x.pt\", \n",
    "#     \"--name\", \"model\", \n",
    "#     \"--epochs\", \"50\", \n",
    "#     \"--data\", \"data.yaml\"\n",
    "# ]\n",
    "\n",
    "# subprocess.run(command)\n"
   ]
  }
 ],
 "metadata": {
  "kernelspec": {
   "display_name": "Python 3",
   "language": "python",
   "name": "python3"
  },
  "language_info": {
   "codemirror_mode": {
    "name": "ipython",
    "version": 3
   },
   "file_extension": ".py",
   "mimetype": "text/x-python",
   "name": "python",
   "nbconvert_exporter": "python",
   "pygments_lexer": "ipython3",
   "version": "3.12.0"
  }
 },
 "nbformat": 4,
 "nbformat_minor": 2
}
